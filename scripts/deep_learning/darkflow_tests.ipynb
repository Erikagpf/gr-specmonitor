{
 "cells": [
  {
   "cell_type": "code",
   "execution_count": 1,
   "metadata": {},
   "outputs": [],
   "source": [
    "import matplotlib.pyplot as plt\n",
    "%matplotlib inline\n",
    "import sys\n",
    "sys.path.append('../../python/darkflow_tools')\n",
    "import argparse\n",
    "import os\n",
    "import subprocess\n",
    "import cv2\n",
    "\n",
    "import parse_yolo_cfg as yolocfg\n",
    "import voc_tools\n",
    "import darknet_scripts\n",
    "import run_darkflow"
   ]
  },
  {
   "cell_type": "code",
   "execution_count": 2,
   "metadata": {},
   "outputs": [],
   "source": [
    "config = 'yolo_train.yml'\n",
    "cfg_obj = yolocfg.read_yaml_main_config(config)\n",
    "\n",
    "darkflow_folder = cfg_obj.darkflow_bin_path()\n",
    "sys.path.append(darkflow_folder)\n",
    "from darkflow.net.build import TFNet"
   ]
  },
  {
   "cell_type": "code",
   "execution_count": 3,
   "metadata": {},
   "outputs": [
    {
     "name": "stdout",
     "output_type": "stream",
     "text": [
      "Parsing /home/xico/repo/gr-mymodules/gr-specmonitor/scripts/deep_learning/yolo_model.cfg\n",
      "Loading None ...\n",
      "Finished in 9.70363616943e-05s\n",
      "\n",
      "Building net ...\n",
      "Source | Train? | Layer description                | Output size\n",
      "-------+--------+----------------------------------+---------------\n",
      "       |        | input                            | (?, 104, 104, 3)\n",
      " Init  |  Yep!  | conv 3x3p1_1  +bnorm  leaky      | (?, 104, 104, 16)\n",
      " Load  |  Yep!  | maxp 2x2p0_2                     | (?, 52, 52, 16)\n",
      " Init  |  Yep!  | conv 3x3p1_1  +bnorm  leaky      | (?, 52, 52, 32)\n",
      " Load  |  Yep!  | maxp 2x2p0_2                     | (?, 26, 26, 32)\n",
      " Init  |  Yep!  | conv 3x3p1_1  +bnorm  leaky      | (?, 26, 26, 64)\n",
      " Load  |  Yep!  | maxp 2x2p0_2                     | (?, 13, 13, 64)\n",
      " Init  |  Yep!  | conv 3x3p1_1  +bnorm  leaky      | (?, 13, 13, 128)\n",
      " Init  |  Yep!  | conv 3x3p1_1  +bnorm  leaky      | (?, 13, 13, 128)\n",
      " Init  |  Yep!  | conv 1x1p0_1    linear           | (?, 13, 13, 56)\n",
      "-------+--------+----------------------------------+---------------\n",
      "Running entirely on CPU\n",
      "Loading from /home/xico/Dropbox/Programming/deep_learning/darkflow/ckpt/yolo_model-67932\n",
      "INFO:tensorflow:Restoring parameters from /home/xico/Dropbox/Programming/deep_learning/darkflow/ckpt/yolo_model-67932\n",
      "Finished in 0.751326084137s\n",
      "\n"
     ]
    }
   ],
   "source": [
    "options = run_darkflow.darkflow_parse_config(cfg_obj)\n",
    "options['load'] = -1\n",
    "tfnet = TFNet(options)"
   ]
  },
  {
   "cell_type": "code",
   "execution_count": 5,
   "metadata": {},
   "outputs": [
    {
     "name": "stdout",
     "output_type": "stream",
     "text": [
      "Going to open file: /home/xico/Dropbox/Programming/deep_learning/test_voc/JPEGImages/data_wifi_0_0_0_0_0.jpg\n"
     ]
    },
    {
     "data": {
      "image/png": "[encoded data removed]",
      "text/plain": [
       "<matplotlib.figure.Figure at 0x7f3fdd309690>"
      ]
     },
     "metadata": {},
     "output_type": "display_data"
    }
   ],
   "source": [
    "onlyfiles = [f for f in os.listdir(options['imgdir']) if os.path.isfile(os.path.join(options['imgdir'], f))]\n",
    "fname = os.path.join(options['imgdir'], onlyfiles[0])\n",
    "print 'Going to open file:',fname\n",
    "imgcv = cv2.imread(fname)\n",
    "#cv2.imshow('image',imgcv)\n",
    "plt.imshow(imgcv,cmap='gray')\n",
    "plt.show()"
   ]
  },
  {
   "cell_type": "code",
   "execution_count": 6,
   "metadata": {},
   "outputs": [
    {
     "name": "stdout",
     "output_type": "stream",
     "text": [
      "[{'topleft': {'y': 0, 'x': 4}, 'confidence': 0.99836016, 'bottomright': {'y': 22, 'x': 60}, 'label': 'wifi'}, {'topleft': {'y': 25, 'x': 4}, 'confidence': 0.97585064, 'bottomright': {'y': 56, 'x': 60}, 'label': 'wifi'}, {'topleft': {'y': 59, 'x': 6}, 'confidence': 0.85606694, 'bottomright': {'y': 85, 'x': 58}, 'label': 'wifi'}, {'topleft': {'y': 92, 'x': 4}, 'confidence': 0.99917048, 'bottomright': {'y': 103, 'x': 61}, 'label': 'wifi'}]\n"
     ]
    }
   ],
   "source": [
    "result = tfnet.return_predict(imgcv)\n",
    "print result"
   ]
  },
  {
   "cell_type": "code",
   "execution_count": 9,
   "metadata": {},
   "outputs": [
    {
     "name": "stdout",
     "output_type": "stream",
     "text": [
      "10 loops, best of 3: 18.2 ms per loop\n"
     ]
    }
   ],
   "source": [
    "%timeit tfnet.return_predict(imgcv)"
   ]
  },
  {
   "cell_type": "code",
   "execution_count": null,
   "metadata": {},
   "outputs": [],
   "source": []
  }
 ],
 "metadata": {
  "kernelspec": {
   "display_name": "Python 2",
   "language": "python",
   "name": "python2"
  },
  "language_info": {
   "codemirror_mode": {
    "name": "ipython",
    "version": 2
   },
   "file_extension": ".py",
   "mimetype": "text/x-python",
   "name": "python",
   "nbconvert_exporter": "python",
   "pygments_lexer": "ipython2",
   "version": "2.7.12"
  }
 },
 "nbformat": 4,
 "nbformat_minor": 2
}
